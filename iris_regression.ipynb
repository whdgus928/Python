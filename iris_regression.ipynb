{
 "cells": [
  {
   "cell_type": "code",
   "execution_count": 1,
   "id": "262cc621",
   "metadata": {},
   "outputs": [],
   "source": [
    "import pandas as pd\n",
    "import numpy as np\n",
    "import seaborn as sns\n",
    "import matplotlib.pyplot as plt"
   ]
  },
  {
   "cell_type": "code",
   "execution_count": 2,
   "id": "bbc7190d",
   "metadata": {},
   "outputs": [
    {
     "name": "stdout",
     "output_type": "stream",
     "text": [
      "     sepal_length  sepal_width  petal_length  petal_width    species\n",
      "0             5.1          3.5           1.4          0.2     setosa\n",
      "1             4.9          3.0           1.4          0.2     setosa\n",
      "2             4.7          3.2           1.3          0.2     setosa\n",
      "3             4.6          3.1           1.5          0.2     setosa\n",
      "4             5.0          3.6           1.4          0.2     setosa\n",
      "..            ...          ...           ...          ...        ...\n",
      "145           6.7          3.0           5.2          2.3  virginica\n",
      "146           6.3          2.5           5.0          1.9  virginica\n",
      "147           6.5          3.0           5.2          2.0  virginica\n",
      "148           6.2          3.4           5.4          2.3  virginica\n",
      "149           5.9          3.0           5.1          1.8  virginica\n",
      "\n",
      "[150 rows x 5 columns]\n"
     ]
    }
   ],
   "source": [
    "#시본에서 제공하는 기본 데이터 프레임\n",
    "df=sns.load_dataset('iris')\n",
    "print(df)"
   ]
  },
  {
   "cell_type": "code",
   "execution_count": 4,
   "id": "9ffeac1b",
   "metadata": {},
   "outputs": [
    {
     "data": {
      "text/html": [
       "<div>\n",
       "<style scoped>\n",
       "    .dataframe tbody tr th:only-of-type {\n",
       "        vertical-align: middle;\n",
       "    }\n",
       "\n",
       "    .dataframe tbody tr th {\n",
       "        vertical-align: top;\n",
       "    }\n",
       "\n",
       "    .dataframe thead th {\n",
       "        text-align: right;\n",
       "    }\n",
       "</style>\n",
       "<table border=\"1\" class=\"dataframe\">\n",
       "  <thead>\n",
       "    <tr style=\"text-align: right;\">\n",
       "      <th></th>\n",
       "      <th>sepal_length</th>\n",
       "      <th>petal_length</th>\n",
       "    </tr>\n",
       "  </thead>\n",
       "  <tbody>\n",
       "    <tr>\n",
       "      <th>0</th>\n",
       "      <td>5.1</td>\n",
       "      <td>1.4</td>\n",
       "    </tr>\n",
       "    <tr>\n",
       "      <th>1</th>\n",
       "      <td>4.9</td>\n",
       "      <td>1.4</td>\n",
       "    </tr>\n",
       "    <tr>\n",
       "      <th>2</th>\n",
       "      <td>4.7</td>\n",
       "      <td>1.3</td>\n",
       "    </tr>\n",
       "    <tr>\n",
       "      <th>3</th>\n",
       "      <td>4.6</td>\n",
       "      <td>1.5</td>\n",
       "    </tr>\n",
       "    <tr>\n",
       "      <th>4</th>\n",
       "      <td>5.0</td>\n",
       "      <td>1.4</td>\n",
       "    </tr>\n",
       "    <tr>\n",
       "      <th>...</th>\n",
       "      <td>...</td>\n",
       "      <td>...</td>\n",
       "    </tr>\n",
       "    <tr>\n",
       "      <th>145</th>\n",
       "      <td>6.7</td>\n",
       "      <td>5.2</td>\n",
       "    </tr>\n",
       "    <tr>\n",
       "      <th>146</th>\n",
       "      <td>6.3</td>\n",
       "      <td>5.0</td>\n",
       "    </tr>\n",
       "    <tr>\n",
       "      <th>147</th>\n",
       "      <td>6.5</td>\n",
       "      <td>5.2</td>\n",
       "    </tr>\n",
       "    <tr>\n",
       "      <th>148</th>\n",
       "      <td>6.2</td>\n",
       "      <td>5.4</td>\n",
       "    </tr>\n",
       "    <tr>\n",
       "      <th>149</th>\n",
       "      <td>5.9</td>\n",
       "      <td>5.1</td>\n",
       "    </tr>\n",
       "  </tbody>\n",
       "</table>\n",
       "<p>150 rows × 2 columns</p>\n",
       "</div>"
      ],
      "text/plain": [
       "     sepal_length  petal_length\n",
       "0             5.1           1.4\n",
       "1             4.9           1.4\n",
       "2             4.7           1.3\n",
       "3             4.6           1.5\n",
       "4             5.0           1.4\n",
       "..            ...           ...\n",
       "145           6.7           5.2\n",
       "146           6.3           5.0\n",
       "147           6.5           5.2\n",
       "148           6.2           5.4\n",
       "149           5.9           5.1\n",
       "\n",
       "[150 rows x 2 columns]"
      ]
     },
     "execution_count": 4,
     "metadata": {},
     "output_type": "execute_result"
    }
   ],
   "source": [
    "x=df['sepal_length'].values.reshape(-1,1)\n",
    "y=df['petal_length'].values.reshape(-1,1)\n",
    "sub_df=df[['sepal_length','petal_length']]\n",
    "sub_df"
   ]
  },
  {
   "cell_type": "code",
   "execution_count": 6,
   "id": "910b6c05",
   "metadata": {},
   "outputs": [
    {
     "data": {
      "text/plain": [
       "array([[5.1],\n",
       "       [4.9],\n",
       "       [4.7],\n",
       "       [4.6],\n",
       "       [5. ],\n",
       "       [5.4],\n",
       "       [4.6],\n",
       "       [5. ],\n",
       "       [4.4],\n",
       "       [4.9],\n",
       "       [5.4],\n",
       "       [4.8],\n",
       "       [4.8],\n",
       "       [4.3],\n",
       "       [5.8],\n",
       "       [5.7],\n",
       "       [5.4],\n",
       "       [5.1],\n",
       "       [5.7],\n",
       "       [5.1],\n",
       "       [5.4],\n",
       "       [5.1],\n",
       "       [4.6],\n",
       "       [5.1],\n",
       "       [4.8],\n",
       "       [5. ],\n",
       "       [5. ],\n",
       "       [5.2],\n",
       "       [5.2],\n",
       "       [4.7],\n",
       "       [4.8],\n",
       "       [5.4],\n",
       "       [5.2],\n",
       "       [5.5],\n",
       "       [4.9],\n",
       "       [5. ],\n",
       "       [5.5],\n",
       "       [4.9],\n",
       "       [4.4],\n",
       "       [5.1],\n",
       "       [5. ],\n",
       "       [4.5],\n",
       "       [4.4],\n",
       "       [5. ],\n",
       "       [5.1],\n",
       "       [4.8],\n",
       "       [5.1],\n",
       "       [4.6],\n",
       "       [5.3],\n",
       "       [5. ],\n",
       "       [7. ],\n",
       "       [6.4],\n",
       "       [6.9],\n",
       "       [5.5],\n",
       "       [6.5],\n",
       "       [5.7],\n",
       "       [6.3],\n",
       "       [4.9],\n",
       "       [6.6],\n",
       "       [5.2],\n",
       "       [5. ],\n",
       "       [5.9],\n",
       "       [6. ],\n",
       "       [6.1],\n",
       "       [5.6],\n",
       "       [6.7],\n",
       "       [5.6],\n",
       "       [5.8],\n",
       "       [6.2],\n",
       "       [5.6],\n",
       "       [5.9],\n",
       "       [6.1],\n",
       "       [6.3],\n",
       "       [6.1],\n",
       "       [6.4],\n",
       "       [6.6],\n",
       "       [6.8],\n",
       "       [6.7],\n",
       "       [6. ],\n",
       "       [5.7],\n",
       "       [5.5],\n",
       "       [5.5],\n",
       "       [5.8],\n",
       "       [6. ],\n",
       "       [5.4],\n",
       "       [6. ],\n",
       "       [6.7],\n",
       "       [6.3],\n",
       "       [5.6],\n",
       "       [5.5],\n",
       "       [5.5],\n",
       "       [6.1],\n",
       "       [5.8],\n",
       "       [5. ],\n",
       "       [5.6],\n",
       "       [5.7],\n",
       "       [5.7],\n",
       "       [6.2],\n",
       "       [5.1],\n",
       "       [5.7],\n",
       "       [6.3],\n",
       "       [5.8],\n",
       "       [7.1],\n",
       "       [6.3],\n",
       "       [6.5],\n",
       "       [7.6],\n",
       "       [4.9],\n",
       "       [7.3],\n",
       "       [6.7],\n",
       "       [7.2],\n",
       "       [6.5],\n",
       "       [6.4],\n",
       "       [6.8],\n",
       "       [5.7],\n",
       "       [5.8],\n",
       "       [6.4],\n",
       "       [6.5],\n",
       "       [7.7],\n",
       "       [7.7],\n",
       "       [6. ],\n",
       "       [6.9],\n",
       "       [5.6],\n",
       "       [7.7],\n",
       "       [6.3],\n",
       "       [6.7],\n",
       "       [7.2],\n",
       "       [6.2],\n",
       "       [6.1],\n",
       "       [6.4],\n",
       "       [7.2],\n",
       "       [7.4],\n",
       "       [7.9],\n",
       "       [6.4],\n",
       "       [6.3],\n",
       "       [6.1],\n",
       "       [7.7],\n",
       "       [6.3],\n",
       "       [6.4],\n",
       "       [6. ],\n",
       "       [6.9],\n",
       "       [6.7],\n",
       "       [6.9],\n",
       "       [5.8],\n",
       "       [6.8],\n",
       "       [6.7],\n",
       "       [6.7],\n",
       "       [6.3],\n",
       "       [6.5],\n",
       "       [6.2],\n",
       "       [5.9]])"
      ]
     },
     "execution_count": 6,
     "metadata": {},
     "output_type": "execute_result"
    }
   ],
   "source": [
    "x"
   ]
  },
  {
   "cell_type": "code",
   "execution_count": 8,
   "id": "686ce784",
   "metadata": {},
   "outputs": [
    {
     "data": {
      "text/plain": [
       "Text(0, 0.5, 'petal_length')"
      ]
     },
     "execution_count": 8,
     "metadata": {},
     "output_type": "execute_result"
    },
    {
     "data": {
      "image/png": "[encoded data removed]",
      "text/plain": [
       "<Figure size 432x288 with 1 Axes>"
      ]
     },
     "metadata": {
      "needs_background": "light"
     },
     "output_type": "display_data"
    }
   ],
   "source": [
    "#산점도\n",
    "plt.scatter(x,y)\n",
    "plt.xlabel('sepal_length')\n",
    "plt.ylabel('petal_length')"
   ]
  },
  {
   "cell_type": "code",
   "execution_count": 9,
   "id": "665d5bae",
   "metadata": {},
   "outputs": [
    {
     "data": {
      "text/plain": [
       "[<matplotlib.lines.Line2D at 0x155226279a0>]"
      ]
     },
     "execution_count": 9,
     "metadata": {},
     "output_type": "execute_result"
    },
    {
     "data": {
      "image/png": "[encoded data removed]",
      "text/plain": [
       "<Figure size 432x288 with 1 Axes>"
      ]
     },
     "metadata": {
      "needs_background": "light"
     },
     "output_type": "display_data"
    }
   ],
   "source": [
    "#회귀분석\n",
    "from sklearn.linear_model import LinearRegression\n",
    "lr=LinearRegression()\n",
    "lr.fit(x,y)\n",
    "y_pred=lr.predict(x)\n",
    "plt.plot(x,y_pred,color='red')"
   ]
  },
  {
   "cell_type": "code",
   "execution_count": null,
   "id": "dd701036",
   "metadata": {},
   "outputs": [],
   "source": []
  }
 ],
 "metadata": {
  "kernelspec": {
   "display_name": "Python 3 (ipykernel)",
   "language": "python",
   "name": "python3"
  },
  "language_info": {
   "codemirror_mode": {
    "name": "ipython",
    "version": 3
   },
   "file_extension": ".py",
   "mimetype": "text/x-python",
   "name": "python",
   "nbconvert_exporter": "python",
   "pygments_lexer": "ipython3",
   "version": "3.9.7"
  }
 },
 "nbformat": 4,
 "nbformat_minor": 5
}
